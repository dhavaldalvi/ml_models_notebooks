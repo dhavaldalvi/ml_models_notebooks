{
 "cells": [
  {
   "cell_type": "markdown",
   "metadata": {},
   "source": [
    "# Logistic Regression\n",
    "\n",
    "Logistic Regression follows the same mathematical steps as Simple Linear Regression, except in this the output is predicted by Logistic function\n",
    "\n",
    "$$\n",
    "f(\\hat{y}) = \\dfrac{1}{1 + e^{-\\hat{y}}} = \\dfrac{1}{1 + e^{-(\\hat{\\beta_{0} + \\beta_{1}X_{1} + \\beta_{2}X_{2} \\dots \\beta_{p-1}X_{p-1})}}}\n",
    "$$\n",
    "with\n",
    "$$\n",
    "y_{\\text{out}} = \\begin{cases}\n",
    "1 & \\text{if} \\quad f(\\hat{y}) > 0.5\\\\\n",
    "0 & \\text{if} \\quad f(\\hat{y}) \\leq 0.5 \n",
    "\\end{cases}\n",
    "$$\n",
    "and using log loss function as cost function\n",
    "$$\n",
    "J = -\\sum_{i}\\left[y_{i}\\log{\\hat{y}_{i\\text{, out}}} + (1 - y_{i})\\log{(1 - \\hat{y}_{i\\text{, out}})}\\right]\n",
    "$$\n",
    "for updating parameters\n",
    "$$\n",
    "\\begin{align*}\n",
    "\\dfrac{\\partial J}{\\partial \\beta_{0}}  &= \\sum_{i}(y_{i} - \\hat{y}_{i\\text{, out}})\\\\\n",
    "\\dfrac{\\partial J}{\\partial \\beta_{k}}  &= \\sum_{i}(y_{i} - \\hat{y}_{i\\text{, out}})X_{i,k}\n",
    "\\end{align*}\n",
    "$$\n",
    "note that $i$ is the sample(rows) and $k$ is the column."
   ]
  },
  {
   "cell_type": "code",
   "execution_count": 1,
   "metadata": {},
   "outputs": [],
   "source": [
    "import numpy as np\n",
    "from sklearn import datasets\n",
    "from sklearn.model_selection import train_test_split\n",
    "from sklearn.linear_model import LogisticRegression\n",
    "from sklearn.metrics import accuracy_score, f1_score"
   ]
  },
  {
   "cell_type": "code",
   "execution_count": 2,
   "metadata": {},
   "outputs": [],
   "source": [
    "def sigmoid(x):\n",
    "    x_clipped = np.clip(x, -500, 500)  # Clip input to avoid overflow\n",
    "    return 1 / (1 + np.exp(-x_clipped))"
   ]
  },
  {
   "cell_type": "code",
   "execution_count": 6,
   "metadata": {},
   "outputs": [],
   "source": [
    "class LogReg:\n",
    "    def __init__(self, learning_rate = 0.001, max_iter = 5000):\n",
    "        self.learning_rate = learning_rate\n",
    "        self.max_iter = max_iter\n",
    "        self.betas = None\n",
    "        \n",
    "    def fit(self, X, y):\n",
    "        n_samples, n_features = X.shape\n",
    "        X = np.append(np.ones((X.shape[0],1)), X, axis=1)\n",
    "        y = y.reshape(n_samples,1)\n",
    "        self.betas = np.zeros((n_features + 1, 1))\n",
    "\n",
    "        for i in range(self.max_iter):\n",
    "            y_linear = np.dot(X, self.betas)\n",
    "            y_pred = sigmoid(y_linear)\n",
    "            error = y - y_pred\n",
    "            d_betas = (-1)*np.dot(X.T, error)\n",
    "            self.betas = self.betas - self.learning_rate*d_betas\n",
    "\n",
    "    def predict(self, X):\n",
    "        n_samples = X.shape[0]\n",
    "        X = np.append(np.ones((X.shape[0],1)), X, axis=1)\n",
    "        y_pred_linear = np.dot(X, self.betas).reshape(n_samples,)\n",
    "        y_pred = np.array([1 if y > 0.5 else 0 for y in y_pred_linear])\n",
    "        return y_pred"
   ]
  },
  {
   "cell_type": "markdown",
   "metadata": {},
   "source": [
    "# Comparing with scikit learn's logistic regression"
   ]
  },
  {
   "cell_type": "code",
   "execution_count": 7,
   "metadata": {},
   "outputs": [],
   "source": [
    "breast_cancer = datasets.load_breast_cancer()\n",
    "X, y = breast_cancer.data, breast_cancer.target\n",
    "X_train, X_test, y_train, y_test = train_test_split(X, y, test_size=0.2, random_state=334)"
   ]
  },
  {
   "cell_type": "code",
   "execution_count": 8,
   "metadata": {},
   "outputs": [
    {
     "name": "stdout",
     "output_type": "stream",
     "text": [
      "Accuracy of custum logistic regression 0.9122807017543859\n",
      "F1 score of custum logistic regression 0.9295774647887324\n",
      "Accuracy of sk learn's logistic regression 0.956140350877193\n",
      "F1 score of custum logistic regression 0.9645390070921985\n"
     ]
    }
   ],
   "source": [
    "log = LogReg()\n",
    "log.fit(X_train, y_train)\n",
    "y_pred = log.predict(X_test)\n",
    "print(\"Accuracy of custum logistic regression\", accuracy_score(y_test, y_pred))\n",
    "print(\"F1 score of custum logistic regression\", f1_score(y_test, y_pred))\n",
    "\n",
    "log_sk = LogisticRegression(max_iter=5000)\n",
    "log_sk.fit(X_train, y_train)\n",
    "y_pred_sk = log_sk.predict(X_test)\n",
    "print(\"Accuracy of sk learn's logistic regression\", accuracy_score(y_test, y_pred_sk))\n",
    "print(\"F1 score of custum logistic regression\", f1_score(y_test, y_pred_sk))\n"
   ]
  },
  {
   "cell_type": "code",
   "execution_count": null,
   "metadata": {},
   "outputs": [],
   "source": []
  }
 ],
 "metadata": {
  "kernelspec": {
   "display_name": "DS",
   "language": "python",
   "name": "python3"
  },
  "language_info": {
   "codemirror_mode": {
    "name": "ipython",
    "version": 3
   },
   "file_extension": ".py",
   "mimetype": "text/x-python",
   "name": "python",
   "nbconvert_exporter": "python",
   "pygments_lexer": "ipython3",
   "version": "3.12.8"
  }
 },
 "nbformat": 4,
 "nbformat_minor": 2
}
